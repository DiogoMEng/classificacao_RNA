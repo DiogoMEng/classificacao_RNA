{
 "cells": [
  {
   "cell_type": "markdown",
   "metadata": {},
   "source": [
    "|Equipe|\n",
    "|------|\n",
    "|Diogo Mello e Jefferson Bittencourt|\n",
    "\n",
    "# Objetivos\n",
    "\n",
    "Selecionar e preparar um dataset de classificação do Kaggle ou do UCI Machine Learning Repository. Treinar um modelo de RNA MLP e realizar o ajuste de hiperparâmetros para otimizar o desempenho."
   ]
  },
  {
   "cell_type": "markdown",
   "metadata": {},
   "source": [
    "## Escolha e Pré-processamento do Dataset\n",
    "\n",
    "1. Acesse o Kaggle (https://www.kaggle.com/datasets) ou o UCI Machine Learning Repository (https://archive.ics.uci.edu/ml/index.php) e escolha um dataset de classificação.\n",
    "2. Realize um pré-processamento adequado: Remova valores ausentes; Codifique variáveis categóricas (se houver); Normalize ou padronize os dados, se necessário.\n"
   ]
  },
  {
   "cell_type": "code",
   "execution_count": 4,
   "metadata": {},
   "outputs": [],
   "source": [
    "import kagglehub\n",
    "import tensorflow as tf\n",
    "import numpy as np\n",
    "import pandas as pd\n",
    "from matplotlib import pyplot as plt\n",
    "import os\n",
    "from sklearn.model_selection import train_test_split"
   ]
  },
  {
   "cell_type": "code",
   "execution_count": 5,
   "metadata": {},
   "outputs": [
    {
     "name": "stdout",
     "output_type": "stream",
     "text": [
      "Path to dataset files /home/diogomello/.cache/kagglehub/datasets/hasaanrana/online-shopping-dataset/versions/1 \n",
      "Arquivos no diretório ['Online Shopping Data.csv', 'data']\n"
     ]
    }
   ],
   "source": [
    "path = kagglehub.dataset_download(\"hasaanrana/online-shopping-dataset\")\n",
    "\n",
    "print(\"Path to dataset files\", path, \"\\nArquivos no diretório\", os.listdir(path))"
   ]
  },
  {
   "cell_type": "code",
   "execution_count": 14,
   "metadata": {},
   "outputs": [
    {
     "name": "stdout",
     "output_type": "stream",
     "text": [
      "Formato de x_train: (160, 16)\n",
      "Formato de y_train: (160,)\n",
      "Formato de x_test: (41, 16)\n",
      "Formato de y_test: (41,)\n"
     ]
    }
   ],
   "source": [
    "csv_path = os.path.join(path, \"Online Shopping Data.csv\")\n",
    "df = pd.read_csv(csv_path)\n",
    "\n",
    "x = df.drop(columns=df.columns[-2])\n",
    "y = df.iloc[:, -2]\n",
    "\n",
    "x_train, x_test, y_train, y_test = train_test_split(x, y, test_size=0.2, random_state=42)\n",
    "\n",
    "print(\"Formato de x_train:\", x_train.shape)\n",
    "print(\"Formato de y_train:\", y_train.shape)\n",
    "print(\"Formato de x_test:\", x_test.shape)\n",
    "print(\"Formato de y_test:\", y_test.shape)"
   ]
  },
  {
   "cell_type": "markdown",
   "metadata": {},
   "source": [
    "### Verificação de Duplicatas"
   ]
  },
  {
   "cell_type": "code",
   "execution_count": 27,
   "metadata": {},
   "outputs": [
    {
     "name": "stdout",
     "output_type": "stream",
     "text": [
      "Duplicatas no Conjunto de Teste:  0 \n",
      "Duplicatas no Conjunto de Treino:  0\n"
     ]
    }
   ],
   "source": [
    "test_duplicates = x_test.duplicated().sum()\n",
    "train_duplicates = x_train.duplicated().sum()\n",
    "\n",
    "print(\"Duplicatas no Conjunto de Teste: \", test_duplicates, \"\\nDuplicatas no Conjunto de Treino: \", train_duplicates)"
   ]
  },
  {
   "cell_type": "markdown",
   "metadata": {},
   "source": [
    "### Verificação de Valores Faltantes"
   ]
  },
  {
   "cell_type": "code",
   "execution_count": 51,
   "metadata": {},
   "outputs": [
    {
     "name": "stdout",
     "output_type": "stream",
     "text": [
      "Valores Faltantes no Conjunto de Teste:\n",
      " Gender                        0\n",
      "Online_Shopping_Freq          0\n",
      "Online_Purchase_Proportion    0\n",
      "Review_Check_Freq             0\n",
      "Attraction_Factor             0\n",
      "Retailer_Choice_Factors       0\n",
      "Preferred_Payment             0\n",
      "Local_vs_Intl_Retailers       0\n",
      "Preferred_Marketplace         0\n",
      "Security_Concern_Level        0\n",
      "Promo_Participation           0\n",
      "Price_Sensitivity             0\n",
      "Comfortable_Price_Range       0\n",
      "Frequent_Products             0\n",
      "Major_Drawback                0\n",
      "Desired_Improvements          0\n",
      "dtype: int64 \n",
      "----------------\n",
      " Valores Faltantes no Conjunto de Traino:\n",
      " Gender                        0\n",
      "Online_Shopping_Freq          0\n",
      "Online_Purchase_Proportion    0\n",
      "Review_Check_Freq             0\n",
      "Attraction_Factor             0\n",
      "Retailer_Choice_Factors       0\n",
      "Preferred_Payment             0\n",
      "Local_vs_Intl_Retailers       0\n",
      "Preferred_Marketplace         0\n",
      "Security_Concern_Level        0\n",
      "Promo_Participation           0\n",
      "Price_Sensitivity             0\n",
      "Comfortable_Price_Range       0\n",
      "Frequent_Products             0\n",
      "Major_Drawback                0\n",
      "Desired_Improvements          0\n",
      "dtype: int64\n"
     ]
    }
   ],
   "source": [
    "missing_values_train = x_train.isnull().sum();\n",
    "missing_values_test = x_test.isnull().sum();\n",
    "\n",
    "print(\"Valores Faltantes no Conjunto de Teste:\\n\", \n",
    "        missing_values_test, \n",
    "        \"\\n----------------\\n\",\n",
    "        \"Valores Faltantes no Conjunto de Traino:\\n\", \n",
    "        missing_values_train\n",
    ")"
   ]
  },
  {
   "cell_type": "markdown",
   "metadata": {},
   "source": [
    "## Tuning do Modelo\n",
    "\n",
    "1. Agora, você deve ajustar os hiperparâmetros do modelo para encontrar a melhor configuração. Experimente alterar nº de neurônios das camadas intermediárias, divisão dos exemplos entre treinamento e teste, algoritmo de treinamento (otimizador), tipo de validação cruzada, etc.\n",
    "2. A meta é uma acurácia de pelo menos 90%.\n",
    "3. Utilize o grid search para experimentar diferentes combinações."
   ]
  },
  {
   "cell_type": "markdown",
   "metadata": {},
   "source": [
    "## Análise de Resultados\n",
    "\n",
    "1. Compare os resultados antes e depois do ajuste de hiperparâmetros.\n",
    "2. Qual foi o impacto do ajuste? O modelo melhorou? Qual combinação de parâmetros teve o melhor desempenho?\n",
    "3. Gere gráficos comparando diferentes configurações, se possível."
   ]
  }
 ],
 "metadata": {
  "kernelspec": {
   "display_name": "venv",
   "language": "python",
   "name": "python3"
  },
  "language_info": {
   "codemirror_mode": {
    "name": "ipython",
    "version": 3
   },
   "file_extension": ".py",
   "mimetype": "text/x-python",
   "name": "python",
   "nbconvert_exporter": "python",
   "pygments_lexer": "ipython3",
   "version": "3.12.3"
  }
 },
 "nbformat": 4,
 "nbformat_minor": 2
}
