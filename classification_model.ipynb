{
 "cells": [
  {
   "cell_type": "markdown",
   "metadata": {},
   "source": [
    "|Equipe|\n",
    "|------|\n",
    "|Diogo Mello e Jefferson Bittencourt|\n",
    "\n",
    "# Objetivos\n",
    "\n",
    "Selecionar e preparar um dataset de classificação do Kaggle ou do UCI Machine Learning Repository. Treinar um modelo de RNA MLP e realizar o ajuste de hiperparâmetros para otimizar o desempenho."
   ]
  },
  {
   "cell_type": "markdown",
   "metadata": {},
   "source": [
    "## Escolha e Pré-processamento do Dataset\n",
    "\n",
    "1. Acesse o Kaggle (https://www.kaggle.com/datasets) ou o UCI Machine Learning Repository (https://archive.ics.uci.edu/ml/index.php) e escolha um dataset de classificação.\n",
    "2. Realize um pré-processamento adequado: Remova valores ausentes; Codifique variáveis categóricas (se houver); Normalize ou padronize os dados, se necessário.\n"
   ]
  },
  {
   "cell_type": "markdown",
   "metadata": {},
   "source": [
    "## Tuning do Modelo\n",
    "\n",
    "1. Agora, você deve ajustar os hiperparâmetros do modelo para encontrar a melhor configuração. Experimente alterar nº de neurônios das camadas intermediárias, divisão dos exemplos entre treinamento e teste, algoritmo de treinamento (otimizador), tipo de validação cruzada, etc.\n",
    "2. A meta é uma acurácia de pelo menos 90%.\n",
    "3. Utilize o grid search para experimentar diferentes combinações."
   ]
  },
  {
   "cell_type": "markdown",
   "metadata": {},
   "source": [
    "## Análise de Resultados\n",
    "\n",
    "1. Compare os resultados antes e depois do ajuste de hiperparâmetros.\n",
    "2. Qual foi o impacto do ajuste? O modelo melhorou? Qual combinação de parâmetros teve o melhor desempenho?\n",
    "3. Gere gráficos comparando diferentes configurações, se possível."
   ]
  }
 ],
 "metadata": {
  "kernelspec": {
   "display_name": "meu_ambiente",
   "language": "python",
   "name": "python3"
  },
  "language_info": {
   "name": "python",
   "version": "3.12.3"
  }
 },
 "nbformat": 4,
 "nbformat_minor": 2
}
