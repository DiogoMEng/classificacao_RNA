{
 "cells": [
  {
   "cell_type": "markdown",
   "metadata": {},
   "source": [
    "|Equipe|\n",
    "|------|\n",
    "|Diogo Mello e Jefferson Bittencourt|\n",
    "\n",
    "# Objetivos\n",
    "\n",
    "Selecionar e preparar um dataset de classificação do Kaggle ou do UCI Machine Learning Repository. Treinar um modelo de RNA MLP e realizar o ajuste de hiperparâmetros para otimizar o desempenho."
   ]
  },
  {
   "cell_type": "markdown",
   "metadata": {},
   "source": [
    "## Escolha e Pré-processamento do Dataset\n",
    "\n",
    "1. Acesse o Kaggle (https://www.kaggle.com/datasets) ou o UCI Machine Learning Repository (https://archive.ics.uci.edu/ml/index.php) e escolha um dataset de classificação.\n",
    "2. Realize um pré-processamento adequado: Remova valores ausentes; Codifique variáveis categóricas (se houver); Normalize ou padronize os dados, se necessário.\n"
   ]
  },
  {
   "cell_type": "code",
   "execution_count": null,
   "metadata": {},
   "outputs": [
    {
     "name": "stderr",
     "output_type": "stream",
     "text": [
      "2025-03-17 18:23:50.280227: I external/local_xla/xla/tsl/cuda/cudart_stub.cc:32] Could not find cuda drivers on your machine, GPU will not be used.\n",
      "2025-03-17 18:23:50.286720: I external/local_xla/xla/tsl/cuda/cudart_stub.cc:32] Could not find cuda drivers on your machine, GPU will not be used.\n",
      "2025-03-17 18:23:50.306992: E external/local_xla/xla/stream_executor/cuda/cuda_fft.cc:467] Unable to register cuFFT factory: Attempting to register factory for plugin cuFFT when one has already been registered\n",
      "WARNING: All log messages before absl::InitializeLog() is called are written to STDERR\n",
      "E0000 00:00:1742246630.339679    9482 cuda_dnn.cc:8579] Unable to register cuDNN factory: Attempting to register factory for plugin cuDNN when one has already been registered\n",
      "E0000 00:00:1742246630.349285    9482 cuda_blas.cc:1407] Unable to register cuBLAS factory: Attempting to register factory for plugin cuBLAS when one has already been registered\n",
      "W0000 00:00:1742246630.372501    9482 computation_placer.cc:177] computation placer already registered. Please check linkage and avoid linking the same target more than once.\n",
      "W0000 00:00:1742246630.372527    9482 computation_placer.cc:177] computation placer already registered. Please check linkage and avoid linking the same target more than once.\n",
      "W0000 00:00:1742246630.372530    9482 computation_placer.cc:177] computation placer already registered. Please check linkage and avoid linking the same target more than once.\n",
      "W0000 00:00:1742246630.372532    9482 computation_placer.cc:177] computation placer already registered. Please check linkage and avoid linking the same target more than once.\n",
      "2025-03-17 18:23:50.380862: I tensorflow/core/platform/cpu_feature_guard.cc:210] This TensorFlow binary is optimized to use available CPU instructions in performance-critical operations.\n",
      "To enable the following instructions: AVX2 FMA, in other operations, rebuild TensorFlow with the appropriate compiler flags.\n"
     ]
    }
   ],
   "source": [
    "import kagglehub\n",
    "import tensorflow as tf\n",
    "import numpy as np\n",
    "from matplotlib import pyplot as plt"
   ]
  },
  {
   "cell_type": "code",
   "execution_count": 13,
   "metadata": {},
   "outputs": [
    {
     "name": "stdout",
     "output_type": "stream",
     "text": [
      "Path to dataset files /home/diogomello/.cache/kagglehub/datasets/hasaanrana/online-shopping-dataset/versions/1\n"
     ]
    }
   ],
   "source": [
    "path = kagglehub.dataset_download(\"hasaanrana/online-shopping-dataset\")\n",
    "\n",
    "print(\"Path to dataset files\", path)"
   ]
  },
  {
   "cell_type": "markdown",
   "metadata": {},
   "source": [
    "## Tuning do Modelo\n",
    "\n",
    "1. Agora, você deve ajustar os hiperparâmetros do modelo para encontrar a melhor configuração. Experimente alterar nº de neurônios das camadas intermediárias, divisão dos exemplos entre treinamento e teste, algoritmo de treinamento (otimizador), tipo de validação cruzada, etc.\n",
    "2. A meta é uma acurácia de pelo menos 90%.\n",
    "3. Utilize o grid search para experimentar diferentes combinações."
   ]
  },
  {
   "cell_type": "markdown",
   "metadata": {},
   "source": [
    "## Análise de Resultados\n",
    "\n",
    "1. Compare os resultados antes e depois do ajuste de hiperparâmetros.\n",
    "2. Qual foi o impacto do ajuste? O modelo melhorou? Qual combinação de parâmetros teve o melhor desempenho?\n",
    "3. Gere gráficos comparando diferentes configurações, se possível."
   ]
  }
 ],
 "metadata": {
  "kernelspec": {
   "display_name": "venv",
   "language": "python",
   "name": "python3"
  },
  "language_info": {
   "codemirror_mode": {
    "name": "ipython",
    "version": 3
   },
   "file_extension": ".py",
   "mimetype": "text/x-python",
   "name": "python",
   "nbconvert_exporter": "python",
   "pygments_lexer": "ipython3",
   "version": "3.12.3"
  }
 },
 "nbformat": 4,
 "nbformat_minor": 2
}
